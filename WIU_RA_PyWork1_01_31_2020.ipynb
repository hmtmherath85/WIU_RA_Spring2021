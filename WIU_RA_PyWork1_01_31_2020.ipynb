{
 "cells": [
  {
   "cell_type": "markdown",
   "metadata": {},
   "source": [
    "## WIU_Research Assistant Work, Spring 2021\n",
    "# Thakshila Herath\n",
    "\n",
    "# Supervisor : Dr. D Ekanayake\n"
   ]
  },
  {
   "cell_type": "markdown",
   "metadata": {},
   "source": [
    "Ex 1 : Show that A = [ 3 −2 0;\n",
    "                −2 2 0;\n",
    "                 0 0 2] \n",
    "       is positive definite."
   ]
  },
  {
   "cell_type": "code",
   "execution_count": 1,
   "metadata": {},
   "outputs": [],
   "source": [
    "# importing the numpy and matplotlib libraries\n",
    "import numpy as np\n",
    "import matplotlib.pyplot as plt"
   ]
  },
  {
   "cell_type": "code",
   "execution_count": 2,
   "metadata": {},
   "outputs": [],
   "source": [
    "# creating the matrix A as a numpy 2D array\n",
    "A = np.array([[3, -2, 0], \n",
    "         [-2, 2, 0],\n",
    "         [ 0, 0, 2]]) "
   ]
  },
  {
   "cell_type": "code",
   "execution_count": 3,
   "metadata": {},
   "outputs": [],
   "source": [
    "# finding eigenvalues and eigenvectors\n",
    "val, vec = np.linalg.eig(A)"
   ]
  },
  {
   "cell_type": "code",
   "execution_count": 4,
   "metadata": {},
   "outputs": [
    {
     "name": "stdout",
     "output_type": "stream",
     "text": [
      "Eigenvalues of A : [4.56155281 0.43844719 2.        ]\n"
     ]
    }
   ],
   "source": [
    "# displaying eigenvalues \n",
    "print(\"Eigenvalues of A :\",val)"
   ]
  },
  {
   "cell_type": "markdown",
   "metadata": {},
   "source": [
    "All the eigenvalues are positive, and hence, A is positive definite."
   ]
  },
  {
   "cell_type": "markdown",
   "metadata": {},
   "source": [
    "Ex2: Suppose f is a differentiable function on $ℝ^3$ and ∇𝑓(𝑥) = [ 2𝑥 + 𝑦 − 5\n",
    "                                                                𝑥 + 𝑦 − 𝑧 − 3\n",
    "                                                                3𝑦 − 𝑧 − 7]. \n",
    "Find all relative minima, if any.\n",
    "\n"
   ]
  },
  {
   "cell_type": "markdown",
   "metadata": {},
   "source": [
    "Ans: We can write ∇𝑓(𝑥) = 0 as \n",
    "    \n",
    "    [2 1 0  [x      [5\n",
    "    1 1 −1   y   =   3\n",
    "    0 3 −1]  z]      7]\n"
   ]
  },
  {
   "cell_type": "code",
   "execution_count": 5,
   "metadata": {},
   "outputs": [
    {
     "name": "stdout",
     "output_type": "stream",
     "text": [
      "x : [[1.2]\n",
      " [2.6]\n",
      " [0.8]]\n",
      "Eigenvalues of A [ 2.43342766+0.j         -0.21671383+1.41695095j -0.21671383-1.41695095j]\n"
     ]
    }
   ],
   "source": [
    "# creating the matrix A as a numpy 2D array\n",
    "A = np.array([[2, 1, 0], \n",
    "         [1, 1, -1],\n",
    "         [ 0, 3, -1]]) \n",
    "\n",
    "# creating a numpy column vector b\n",
    "b = np.array([[5, 3, 7]]).T\n",
    "#print(b)\n",
    "\n",
    "# finding the inverse of A\n",
    "inv_A = np.linalg.inv(A)\n",
    "#print(inv_A)\n",
    "\n",
    "# solving for x\n",
    "x = np.matmul(inv_A,b)\n",
    "print(\"x :\",x)\n",
    "\n",
    "eval_A, evec_A = np.linalg.eig(A)\n",
    "print(\"Eigenvalues of A\",eval_A)"
   ]
  },
  {
   "cell_type": "markdown",
   "metadata": {},
   "source": [
    "Since every point in $ℝ^3$ is an interior point $[1.2, 2.6, 0.8]^𝑇$ satisfies the FONC; however, $∇^2$𝑓(𝑥)\n",
    "is not positive semidefinite. Therefore, the function does not have any relative minima."
   ]
  },
  {
   "cell_type": "markdown",
   "metadata": {},
   "source": [
    "Ex3: Plot 𝑥 ≥ 0 and 𝑥 + 𝑦 ≥ 0. "
   ]
  },
  {
   "cell_type": "code",
   "execution_count": 6,
   "metadata": {},
   "outputs": [
    {
     "data": {
      "image/png": "[encoded data removed]",
      "text/plain": [
       "<Figure size 432x288 with 1 Axes>"
      ]
     },
     "metadata": {},
     "output_type": "display_data"
    }
   ],
   "source": [
    "x = np.arange(-5, 5, 0.01)\n",
    "y = np.arange(-5, 5, 0.01)\n",
    "\n",
    "y1 = -x\n",
    "y2 = 0*x\n",
    "\n",
    "plt.plot(x, y1,'r', label=r'$y\\geq0$')\n",
    "plt.plot(y2, y, 'b',label=r'$x+y\\geq0$')\n",
    "\n",
    "plt.xlim((-5, 5))\n",
    "plt.ylim((-5, 5))\n",
    "\n",
    "plt.fill_between(x,y1,max(y), where=(x>=0)&(x+y>=0),color = 'g') \n",
    "\n",
    "plt.title('x>=0 & x+y>=0')\n",
    "\n",
    "plt.show()"
   ]
  },
  {
   "cell_type": "markdown",
   "metadata": {},
   "source": [
    "Ex4: Is 𝐶 = {𝑥 ∈ $ℝ^𝑛$ | 𝑎, 𝑏 ∈ $ℝ^𝑛$, $𝑎^𝑇$𝑥 ≤ 8, $𝑏^𝑇$𝑥 ≥ −10, $𝑥^𝑇$𝑥 ≤ 100 } a convex set?\n",
    "     Plot an example set C in $ℝ^2$.\n"
   ]
  },
  {
   "cell_type": "code",
   "execution_count": null,
   "metadata": {},
   "outputs": [],
   "source": []
  }
 ],
 "metadata": {
  "kernelspec": {
   "display_name": "Python 3",
   "language": "python",
   "name": "python3"
  },
  "language_info": {
   "codemirror_mode": {
    "name": "ipython",
    "version": 3
   },
   "file_extension": ".py",
   "mimetype": "text/x-python",
   "name": "python",
   "nbconvert_exporter": "python",
   "pygments_lexer": "ipython3",
   "version": "3.6.2"
  }
 },
 "nbformat": 4,
 "nbformat_minor": 2
}
